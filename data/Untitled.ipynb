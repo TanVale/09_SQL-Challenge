{
 "cells": [
  {
   "cell_type": "code",
   "execution_count": null,
   "id": "6a094a50-4b26-48d9-b03d-52dbe9746adc",
   "metadata": {},
   "outputs": [],
   "source": [
    "Dept"
   ]
  }
 ],
 "metadata": {
  "kernelspec": {
   "display_name": "Python 3 (ipykernel)",
   "language": "python",
   "name": "python3"
  },
  "language_info": {
   "codemirror_mode": {
    "name": "ipython",
    "version": 3
   },
   "file_extension": ".py",
   "mimetype": "text/x-python",
   "name": "python",
   "nbconvert_exporter": "python",
   "pygments_lexer": "ipython3",
   "version": "3.11.5"
  }
 },
 "nbformat": 4,
 "nbformat_minor": 5
}
